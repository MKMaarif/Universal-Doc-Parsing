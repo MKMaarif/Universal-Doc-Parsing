{
 "cells": [
  {
   "cell_type": "code",
   "execution_count": 7,
   "id": "d236cc96",
   "metadata": {},
   "outputs": [],
   "source": [
    "import json\n",
    "import pandas as pd\n",
    "import os"
   ]
  },
  {
   "cell_type": "code",
   "execution_count": 8,
   "id": "86c1c6ff",
   "metadata": {},
   "outputs": [
    {
     "data": {
      "text/plain": [
       "314"
      ]
     },
     "execution_count": 8,
     "metadata": {},
     "output_type": "execute_result"
    }
   ],
   "source": [
    "# read json\n",
    "with open('fixed_res/Ours/dummy-data.pdf.json', encoding='utf8') as f:\n",
    "    dummy_res = json.load(f)\n",
    "\n",
    "with open('fixed_res/Ours/AF24_Alexander_Redman_Final.pdf.json', encoding=\"utf8\") as f:\n",
    "    redman_res = json.load(f)\n",
    "\n",
    "with open('fixed_res/Ours/attention_paper.pdf.json', encoding=\"utf8\") as f:\n",
    "    attention_res = json.load(f)\n",
    "\n",
    "with open('fixed_res/Ours/Astra_AR_2023 (15052024)_LR-1-220.pdf.json', encoding=\"utf8\") as f:\n",
    "    astra_ar_220_res = json.load(f)\n",
    "\n",
    "with open('fixed_res/Ours/AR for improved learnability.pdf.json', encoding=\"utf8\") as f:\n",
    "    ar_res = json.load(f)\n",
    "\n",
    "combined_input_res = dummy_res[\"pages\"].copy() + redman_res[\"pages\"].copy() + attention_res[\"pages\"].copy() + astra_ar_220_res[\"pages\"].copy() + ar_res[\"pages\"].copy()\n",
    "text_input = []\n",
    "for page in combined_input_res:\n",
    "    text_input.append(page[\"text\"])\n",
    "\n",
    "len(text_input)"
   ]
  },
  {
   "cell_type": "code",
   "execution_count": 9,
   "id": "2419ad5f",
   "metadata": {},
   "outputs": [
    {
     "data": {
      "text/plain": [
       "314"
      ]
     },
     "execution_count": 9,
     "metadata": {},
     "output_type": "execute_result"
    }
   ],
   "source": [
    "# read markdown target\n",
    "with open('fixed_res/FineTune_Truth/benchmark_data.md', encoding='utf8') as f:\n",
    "    dummy_target = f.read()\n",
    "with open('fixed_res/FineTune_Truth/AF24_Alexander_Redman_Final.pdf.md', encoding='utf8') as f:\n",
    "    redman_target = f.read()\n",
    "with open('fixed_res/FineTune_Truth/attention_paper.pdf.md', encoding='utf8') as f:\n",
    "    attention_target = f.read()\n",
    "with open('fixed_res/FineTune_Truth/Astra_AR_2023 (15052024)_LR-1-220.pdf.md', encoding='utf8') as f:\n",
    "    astra_ar_220_target = f.read()\n",
    "with open('fixed_res/FineTune_Truth/AR for improved learnability.pdf.md', encoding='utf8') as f:\n",
    "    ar_target = f.read()\n",
    "\n",
    "md_target = []\n",
    "for page in dummy_target.split(\"\\n---\\n\"):\n",
    "    md_target.append(page)\n",
    "\n",
    "for page in redman_target.split(\"\\n\\n---\\n\\n\"):\n",
    "    md_target.append(page)\n",
    "\n",
    "for page in attention_target.split(\"\\n---\\n\"):\n",
    "    md_target.append(page)\n",
    "\n",
    "for page in astra_ar_220_target.split(\"\\n---\\n\"):\n",
    "    md_target.append(page)\n",
    "\n",
    "for page in ar_target.split(\"\\n---\\n\"):\n",
    "    md_target.append(page)\n",
    "\n",
    "len(md_target)"
   ]
  },
  {
   "cell_type": "code",
   "execution_count": 10,
   "id": "716cb207",
   "metadata": {},
   "outputs": [
    {
     "data": {
      "text/html": [
       "<div>\n",
       "<style scoped>\n",
       "    .dataframe tbody tr th:only-of-type {\n",
       "        vertical-align: middle;\n",
       "    }\n",
       "\n",
       "    .dataframe tbody tr th {\n",
       "        vertical-align: top;\n",
       "    }\n",
       "\n",
       "    .dataframe thead th {\n",
       "        text-align: right;\n",
       "    }\n",
       "</style>\n",
       "<table border=\"1\" class=\"dataframe\">\n",
       "  <thead>\n",
       "    <tr style=\"text-align: right;\">\n",
       "      <th></th>\n",
       "      <th>extracted_data</th>\n",
       "      <th>reformatted_data</th>\n",
       "    </tr>\n",
       "  </thead>\n",
       "  <tbody>\n",
       "    <tr>\n",
       "      <th>0</th>\n",
       "      <td>PFU Business report\\n\\nNew customer's developm...</td>\n",
       "      <td>PFU Business report \\n\\nNo.068\\n\\n# New custom...</td>\n",
       "    </tr>\n",
       "    <tr>\n",
       "      <th>1</th>\n",
       "      <td>© unitED TRACTORS\\n member of ASTRA\\n\\nPT UNIT...</td>\n",
       "      <td># UNITED TRACTORS\\nmember of ASTRA\\n\\n# PT UNI...</td>\n",
       "    </tr>\n",
       "    <tr>\n",
       "      <th>2</th>\n",
       "      <td>PT UNITED TRACTORS Tbk DAN ENTITAS ANAK/AND SU...</td>\n",
       "      <td># PT UNITED TRACTORS Tbk DAN ENTITAS ANAK/AND ...</td>\n",
       "    </tr>\n",
       "    <tr>\n",
       "      <th>3</th>\n",
       "      <td>SALES STATISTICS\\n\\nLARANA, INC. | 2024\\n\\nThi...</td>\n",
       "      <td># SALES STATISTICS\\n\\nLARANA, INC. | 2024\\n\\nT...</td>\n",
       "    </tr>\n",
       "    <tr>\n",
       "      <th>4</th>\n",
       "      <td>| Sheet1 | | | | | | |\\n| --- | --- | --- | --...</td>\n",
       "      <td>Sheet 1\\n\\n| 0 | First Name | Last Name | Gend...</td>\n",
       "    </tr>\n",
       "    <tr>\n",
       "      <th>...</th>\n",
       "      <td>...</td>\n",
       "      <td>...</td>\n",
       "    </tr>\n",
       "    <tr>\n",
       "      <th>309</th>\n",
       "      <td>D. Ariansyah et al.\\n\\nCIRP Journal of Manufac...</td>\n",
       "      <td>D. Ariansyah et al.\\n\\nCIRP Journal of Manufac...</td>\n",
       "    </tr>\n",
       "    <tr>\n",
       "      <th>310</th>\n",
       "      <td>D. Ariansyah et al.\\n\\nTable 3\\n\\nScores of pr...</td>\n",
       "      <td>D. Ariansyah et al.\\n\\nCIRP Journal of Manufac...</td>\n",
       "    </tr>\n",
       "    <tr>\n",
       "      <th>311</th>\n",
       "      <td>D. Ariansyah et al.\\n\\n| Time (min) | Color   ...</td>\n",
       "      <td>D. Ariansyah et al.\\n\\nCIRP Journal of Manufac...</td>\n",
       "    </tr>\n",
       "    <tr>\n",
       "      <th>312</th>\n",
       "      <td>D. Ariansyah et al.\\n\\nTable 7\\n\\nRelation bet...</td>\n",
       "      <td>D. Ariansyah et al.\\n\\nCIRP Journal of Manufac...</td>\n",
       "    </tr>\n",
       "    <tr>\n",
       "      <th>313</th>\n",
       "      <td>D. Ariansyah et al.\\n knowledge is acquired, t...</td>\n",
       "      <td>D. Ariansyah et al.\\n\\nCIRP Journal of Manufac...</td>\n",
       "    </tr>\n",
       "  </tbody>\n",
       "</table>\n",
       "<p>314 rows × 2 columns</p>\n",
       "</div>"
      ],
      "text/plain": [
       "                                        extracted_data  \\\n",
       "0    PFU Business report\\n\\nNew customer's developm...   \n",
       "1    © unitED TRACTORS\\n member of ASTRA\\n\\nPT UNIT...   \n",
       "2    PT UNITED TRACTORS Tbk DAN ENTITAS ANAK/AND SU...   \n",
       "3    SALES STATISTICS\\n\\nLARANA, INC. | 2024\\n\\nThi...   \n",
       "4    | Sheet1 | | | | | | |\\n| --- | --- | --- | --...   \n",
       "..                                                 ...   \n",
       "309  D. Ariansyah et al.\\n\\nCIRP Journal of Manufac...   \n",
       "310  D. Ariansyah et al.\\n\\nTable 3\\n\\nScores of pr...   \n",
       "311  D. Ariansyah et al.\\n\\n| Time (min) | Color   ...   \n",
       "312  D. Ariansyah et al.\\n\\nTable 7\\n\\nRelation bet...   \n",
       "313  D. Ariansyah et al.\\n knowledge is acquired, t...   \n",
       "\n",
       "                                      reformatted_data  \n",
       "0    PFU Business report \\n\\nNo.068\\n\\n# New custom...  \n",
       "1    # UNITED TRACTORS\\nmember of ASTRA\\n\\n# PT UNI...  \n",
       "2    # PT UNITED TRACTORS Tbk DAN ENTITAS ANAK/AND ...  \n",
       "3    # SALES STATISTICS\\n\\nLARANA, INC. | 2024\\n\\nT...  \n",
       "4    Sheet 1\\n\\n| 0 | First Name | Last Name | Gend...  \n",
       "..                                                 ...  \n",
       "309  D. Ariansyah et al.\\n\\nCIRP Journal of Manufac...  \n",
       "310  D. Ariansyah et al.\\n\\nCIRP Journal of Manufac...  \n",
       "311  D. Ariansyah et al.\\n\\nCIRP Journal of Manufac...  \n",
       "312  D. Ariansyah et al.\\n\\nCIRP Journal of Manufac...  \n",
       "313  D. Ariansyah et al.\\n\\nCIRP Journal of Manufac...  \n",
       "\n",
       "[314 rows x 2 columns]"
      ]
     },
     "execution_count": 10,
     "metadata": {},
     "output_type": "execute_result"
    }
   ],
   "source": [
    "# create a dataframe\n",
    "df = pd.DataFrame(columns=[\"extracted_data\", \"reformatted_data\"])\n",
    "df[\"extracted_data\"] = text_input\n",
    "df[\"reformatted_data\"] = md_target\n",
    "df = df.dropna()\n",
    "df = df.reset_index(drop=True)\n",
    "df = df.drop_duplicates(subset=[\"extracted_data\", \"reformatted_data\"])\n",
    "df"
   ]
  },
  {
   "cell_type": "code",
   "execution_count": 11,
   "id": "1b8617aa",
   "metadata": {},
   "outputs": [],
   "source": [
    "# save the dataframe to a csv file\n",
    "df.to_csv(\"fixed_res/text-to-md.csv\", index=False, encoding=\"utf-8-sig\")"
   ]
  },
  {
   "cell_type": "code",
   "execution_count": null,
   "id": "a5534e21",
   "metadata": {},
   "outputs": [],
   "source": []
  }
 ],
 "metadata": {
  "kernelspec": {
   "display_name": ".venv",
   "language": "python",
   "name": "python3"
  },
  "language_info": {
   "codemirror_mode": {
    "name": "ipython",
    "version": 3
   },
   "file_extension": ".py",
   "mimetype": "text/x-python",
   "name": "python",
   "nbconvert_exporter": "python",
   "pygments_lexer": "ipython3",
   "version": "3.12.10"
  }
 },
 "nbformat": 4,
 "nbformat_minor": 5
}
