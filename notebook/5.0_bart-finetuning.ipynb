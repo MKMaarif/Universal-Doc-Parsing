{
 "cells": [
  {
   "cell_type": "code",
   "execution_count": null,
   "metadata": {
    "execution": {
     "iopub.execute_input": "2024-06-08T17:52:27.078684Z",
     "iopub.status.busy": "2024-06-08T17:52:27.078401Z",
     "iopub.status.idle": "2024-06-08T17:52:28.025988Z",
     "shell.execute_reply": "2024-06-08T17:52:28.024948Z",
     "shell.execute_reply.started": "2024-06-08T17:52:27.078658Z"
    },
    "trusted": true
   },
   "outputs": [],
   "source": [
    "# !rm /opt/conda/lib/python3.10/site-packages/aiohttp-3.9.1.dist-info -rdf"
   ]
  },
  {
   "cell_type": "code",
   "execution_count": 2,
   "metadata": {
    "execution": {
     "iopub.execute_input": "2024-06-08T17:52:28.031223Z",
     "iopub.status.busy": "2024-06-08T17:52:28.030929Z",
     "iopub.status.idle": "2024-06-08T17:52:40.367796Z",
     "shell.execute_reply": "2024-06-08T17:52:40.366875Z",
     "shell.execute_reply.started": "2024-06-08T17:52:28.031170Z"
    },
    "trusted": true
   },
   "outputs": [
    {
     "name": "stdout",
     "output_type": "stream",
     "text": [
      "Requirement already satisfied: rouge_score in /opt/conda/lib/python3.10/site-packages (0.1.2)\n",
      "Requirement already satisfied: absl-py in /opt/conda/lib/python3.10/site-packages (from rouge_score) (1.4.0)\n",
      "Requirement already satisfied: nltk in /opt/conda/lib/python3.10/site-packages (from rouge_score) (3.2.4)\n",
      "Requirement already satisfied: numpy in /opt/conda/lib/python3.10/site-packages (from rouge_score) (1.26.4)\n",
      "Requirement already satisfied: six>=1.14.0 in /opt/conda/lib/python3.10/site-packages (from rouge_score) (1.16.0)\n"
     ]
    }
   ],
   "source": [
    "!pip install rouge_score"
   ]
  },
  {
   "cell_type": "code",
   "execution_count": 3,
   "metadata": {
    "execution": {
     "iopub.execute_input": "2024-06-08T17:52:40.369604Z",
     "iopub.status.busy": "2024-06-08T17:52:40.369270Z",
     "iopub.status.idle": "2024-06-08T17:52:52.880632Z",
     "shell.execute_reply": "2024-06-08T17:52:52.879648Z",
     "shell.execute_reply.started": "2024-06-08T17:52:40.369575Z"
    },
    "trusted": true
   },
   "outputs": [
    {
     "name": "stdout",
     "output_type": "stream",
     "text": [
      "Requirement already satisfied: evaluate in /opt/conda/lib/python3.10/site-packages (0.4.2)\n",
      "Requirement already satisfied: datasets>=2.0.0 in /opt/conda/lib/python3.10/site-packages (from evaluate) (2.19.1)\n",
      "Requirement already satisfied: numpy>=1.17 in /opt/conda/lib/python3.10/site-packages (from evaluate) (1.26.4)\n",
      "Requirement already satisfied: dill in /opt/conda/lib/python3.10/site-packages (from evaluate) (0.3.8)\n",
      "Requirement already satisfied: pandas in /opt/conda/lib/python3.10/site-packages (from evaluate) (2.2.1)\n",
      "Requirement already satisfied: requests>=2.19.0 in /opt/conda/lib/python3.10/site-packages (from evaluate) (2.31.0)\n",
      "Requirement already satisfied: tqdm>=4.62.1 in /opt/conda/lib/python3.10/site-packages (from evaluate) (4.66.4)\n",
      "Requirement already satisfied: xxhash in /opt/conda/lib/python3.10/site-packages (from evaluate) (3.4.1)\n",
      "Requirement already satisfied: multiprocess in /opt/conda/lib/python3.10/site-packages (from evaluate) (0.70.16)\n",
      "Requirement already satisfied: fsspec>=2021.05.0 in /opt/conda/lib/python3.10/site-packages (from fsspec[http]>=2021.05.0->evaluate) (2024.3.1)\n",
      "Requirement already satisfied: huggingface-hub>=0.7.0 in /opt/conda/lib/python3.10/site-packages (from evaluate) (0.23.2)\n",
      "Requirement already satisfied: packaging in /opt/conda/lib/python3.10/site-packages (from evaluate) (21.3)\n",
      "Requirement already satisfied: filelock in /opt/conda/lib/python3.10/site-packages (from datasets>=2.0.0->evaluate) (3.13.1)\n",
      "Requirement already satisfied: pyarrow>=12.0.0 in /opt/conda/lib/python3.10/site-packages (from datasets>=2.0.0->evaluate) (14.0.2)\n",
      "Requirement already satisfied: pyarrow-hotfix in /opt/conda/lib/python3.10/site-packages (from datasets>=2.0.0->evaluate) (0.6)\n",
      "Requirement already satisfied: aiohttp in /opt/conda/lib/python3.10/site-packages (from datasets>=2.0.0->evaluate) (3.9.5)\n",
      "Requirement already satisfied: pyyaml>=5.1 in /opt/conda/lib/python3.10/site-packages (from datasets>=2.0.0->evaluate) (6.0.1)\n",
      "Requirement already satisfied: typing-extensions>=3.7.4.3 in /opt/conda/lib/python3.10/site-packages (from huggingface-hub>=0.7.0->evaluate) (4.9.0)\n",
      "Requirement already satisfied: pyparsing!=3.0.5,>=2.0.2 in /opt/conda/lib/python3.10/site-packages (from packaging->evaluate) (3.1.1)\n",
      "Requirement already satisfied: charset-normalizer<4,>=2 in /opt/conda/lib/python3.10/site-packages (from requests>=2.19.0->evaluate) (3.3.2)\n",
      "Requirement already satisfied: idna<4,>=2.5 in /opt/conda/lib/python3.10/site-packages (from requests>=2.19.0->evaluate) (3.6)\n",
      "Requirement already satisfied: urllib3<3,>=1.21.1 in /opt/conda/lib/python3.10/site-packages (from requests>=2.19.0->evaluate) (1.26.18)\n",
      "Requirement already satisfied: certifi>=2017.4.17 in /opt/conda/lib/python3.10/site-packages (from requests>=2.19.0->evaluate) (2024.2.2)\n",
      "Requirement already satisfied: python-dateutil>=2.8.2 in /opt/conda/lib/python3.10/site-packages (from pandas->evaluate) (2.9.0.post0)\n",
      "Requirement already satisfied: pytz>=2020.1 in /opt/conda/lib/python3.10/site-packages (from pandas->evaluate) (2023.3.post1)\n",
      "Requirement already satisfied: tzdata>=2022.7 in /opt/conda/lib/python3.10/site-packages (from pandas->evaluate) (2023.4)\n",
      "Requirement already satisfied: aiosignal>=1.1.2 in /opt/conda/lib/python3.10/site-packages (from aiohttp->datasets>=2.0.0->evaluate) (1.3.1)\n",
      "Requirement already satisfied: attrs>=17.3.0 in /opt/conda/lib/python3.10/site-packages (from aiohttp->datasets>=2.0.0->evaluate) (23.2.0)\n",
      "Requirement already satisfied: frozenlist>=1.1.1 in /opt/conda/lib/python3.10/site-packages (from aiohttp->datasets>=2.0.0->evaluate) (1.4.1)\n",
      "Requirement already satisfied: multidict<7.0,>=4.5 in /opt/conda/lib/python3.10/site-packages (from aiohttp->datasets>=2.0.0->evaluate) (6.0.4)\n",
      "Requirement already satisfied: yarl<2.0,>=1.0 in /opt/conda/lib/python3.10/site-packages (from aiohttp->datasets>=2.0.0->evaluate) (1.9.3)\n",
      "Requirement already satisfied: async-timeout<5.0,>=4.0 in /opt/conda/lib/python3.10/site-packages (from aiohttp->datasets>=2.0.0->evaluate) (4.0.3)\n",
      "Requirement already satisfied: six>=1.5 in /opt/conda/lib/python3.10/site-packages (from python-dateutil>=2.8.2->pandas->evaluate) (1.16.0)\n"
     ]
    }
   ],
   "source": [
    "!pip install evaluate "
   ]
  },
  {
   "cell_type": "code",
   "execution_count": 4,
   "metadata": {
    "execution": {
     "iopub.execute_input": "2024-06-08T17:52:52.883612Z",
     "iopub.status.busy": "2024-06-08T17:52:52.883280Z",
     "iopub.status.idle": "2024-06-08T17:53:00.340490Z",
     "shell.execute_reply": "2024-06-08T17:53:00.339681Z",
     "shell.execute_reply.started": "2024-06-08T17:52:52.883582Z"
    },
    "trusted": true
   },
   "outputs": [
    {
     "name": "stderr",
     "output_type": "stream",
     "text": [
      "2024-06-08 17:52:57.105229: E external/local_xla/xla/stream_executor/cuda/cuda_dnn.cc:9261] Unable to register cuDNN factory: Attempting to register factory for plugin cuDNN when one has already been registered\n",
      "2024-06-08 17:52:57.105286: E external/local_xla/xla/stream_executor/cuda/cuda_fft.cc:607] Unable to register cuFFT factory: Attempting to register factory for plugin cuFFT when one has already been registered\n",
      "2024-06-08 17:52:57.106844: E external/local_xla/xla/stream_executor/cuda/cuda_blas.cc:1515] Unable to register cuBLAS factory: Attempting to register factory for plugin cuBLAS when one has already been registered\n"
     ]
    }
   ],
   "source": [
    "import torch\n",
    "import numpy as np\n",
    "\n",
    "import nltk\n",
    "\n",
    "import transformers\n",
    "from datasets import load_dataset\n",
    "import evaluate"
   ]
  },
  {
   "cell_type": "code",
   "execution_count": 5,
   "metadata": {
    "execution": {
     "iopub.execute_input": "2024-06-08T17:53:00.342150Z",
     "iopub.status.busy": "2024-06-08T17:53:00.341614Z",
     "iopub.status.idle": "2024-06-08T17:53:00.409154Z",
     "shell.execute_reply": "2024-06-08T17:53:00.408182Z",
     "shell.execute_reply.started": "2024-06-08T17:53:00.342122Z"
    },
    "trusted": true
   },
   "outputs": [
    {
     "data": {
      "text/plain": [
       "'cuda'"
      ]
     },
     "execution_count": 5,
     "metadata": {},
     "output_type": "execute_result"
    }
   ],
   "source": [
    "device = 'cuda' if torch.cuda.is_available() else 'cpu'\n",
    "device"
   ]
  },
  {
   "cell_type": "markdown",
   "metadata": {},
   "source": [
    "## Data preporcessing"
   ]
  },
  {
   "cell_type": "code",
   "execution_count": 6,
   "metadata": {
    "execution": {
     "iopub.execute_input": "2024-06-08T17:53:00.410632Z",
     "iopub.status.busy": "2024-06-08T17:53:00.410299Z",
     "iopub.status.idle": "2024-06-08T17:53:02.658730Z",
     "shell.execute_reply": "2024-06-08T17:53:02.657742Z",
     "shell.execute_reply.started": "2024-06-08T17:53:00.410607Z"
    },
    "trusted": true
   },
   "outputs": [],
   "source": [
    "billsum = load_dataset('billsum', split='ca_test')\n",
    "billsum = billsum.train_test_split(test_size=.1)"
   ]
  },
  {
   "cell_type": "code",
   "execution_count": 7,
   "metadata": {
    "execution": {
     "iopub.execute_input": "2024-06-08T17:53:02.660278Z",
     "iopub.status.busy": "2024-06-08T17:53:02.659936Z",
     "iopub.status.idle": "2024-06-08T17:53:02.826203Z",
     "shell.execute_reply": "2024-06-08T17:53:02.825366Z",
     "shell.execute_reply.started": "2024-06-08T17:53:02.660246Z"
    },
    "trusted": true
   },
   "outputs": [],
   "source": [
    "tokenizer = transformers.AutoTokenizer.from_pretrained('ainize/bart-base-cnn')"
   ]
  },
  {
   "cell_type": "code",
   "execution_count": 8,
   "metadata": {
    "execution": {
     "iopub.execute_input": "2024-06-08T17:53:02.828108Z",
     "iopub.status.busy": "2024-06-08T17:53:02.827745Z",
     "iopub.status.idle": "2024-06-08T17:53:02.833641Z",
     "shell.execute_reply": "2024-06-08T17:53:02.832554Z",
     "shell.execute_reply.started": "2024-06-08T17:53:02.828075Z"
    },
    "trusted": true
   },
   "outputs": [],
   "source": [
    "def preprocess_function(examples):\n",
    "    model_inputs = tokenizer(\n",
    "        examples['text'], max_length=1024, truncation=True\n",
    "    )\n",
    "    labels = tokenizer(\n",
    "        text_target=examples['summary'], max_length=128, truncation=True\n",
    "    )\n",
    "    model_inputs['labels'] = labels['input_ids']\n",
    "    return model_inputs"
   ]
  },
  {
   "cell_type": "code",
   "execution_count": 9,
   "metadata": {
    "execution": {
     "iopub.execute_input": "2024-06-08T17:53:02.835082Z",
     "iopub.status.busy": "2024-06-08T17:53:02.834796Z",
     "iopub.status.idle": "2024-06-08T17:53:07.206541Z",
     "shell.execute_reply": "2024-06-08T17:53:07.205667Z",
     "shell.execute_reply.started": "2024-06-08T17:53:02.835058Z"
    },
    "trusted": true
   },
   "outputs": [
    {
     "data": {
      "application/vnd.jupyter.widget-view+json": {
       "model_id": "7f5649f3977548d3996a08c88b00fdba",
       "version_major": 2,
       "version_minor": 0
      },
      "text/plain": [
       "Map:   0%|          | 0/1113 [00:00<?, ? examples/s]"
      ]
     },
     "metadata": {},
     "output_type": "display_data"
    },
    {
     "data": {
      "application/vnd.jupyter.widget-view+json": {
       "model_id": "5f333be03c7247c7aaea125c18662ad4",
       "version_major": 2,
       "version_minor": 0
      },
      "text/plain": [
       "Map:   0%|          | 0/124 [00:00<?, ? examples/s]"
      ]
     },
     "metadata": {},
     "output_type": "display_data"
    }
   ],
   "source": [
    "tokenized_billsum = billsum.map(preprocess_function, batched=True)"
   ]
  },
  {
   "cell_type": "markdown",
   "metadata": {},
   "source": [
    "## Metrics"
   ]
  },
  {
   "cell_type": "code",
   "execution_count": 10,
   "metadata": {
    "execution": {
     "iopub.execute_input": "2024-06-08T17:53:07.208158Z",
     "iopub.status.busy": "2024-06-08T17:53:07.207799Z",
     "iopub.status.idle": "2024-06-08T17:53:07.631800Z",
     "shell.execute_reply": "2024-06-08T17:53:07.630821Z",
     "shell.execute_reply.started": "2024-06-08T17:53:07.208126Z"
    },
    "trusted": true
   },
   "outputs": [],
   "source": [
    "nltk.download('punkt', quiet=True)\n",
    "metric = evaluate.load('rouge')"
   ]
  },
  {
   "cell_type": "code",
   "execution_count": 11,
   "metadata": {
    "execution": {
     "iopub.execute_input": "2024-06-08T17:53:07.633442Z",
     "iopub.status.busy": "2024-06-08T17:53:07.633067Z",
     "iopub.status.idle": "2024-06-08T17:53:07.641246Z",
     "shell.execute_reply": "2024-06-08T17:53:07.640243Z",
     "shell.execute_reply.started": "2024-06-08T17:53:07.633408Z"
    },
    "trusted": true
   },
   "outputs": [],
   "source": [
    "def compute_metrics(eval_preds):\n",
    "    preds, labels = eval_preds\n",
    "\n",
    "    # decode preds and labels\n",
    "    labels = np.where(labels != -100, labels, tokenizer.pad_token_id)\n",
    "    decoded_preds = tokenizer.batch_decode(preds, skip_special_tokens=True)\n",
    "    decoded_labels = tokenizer.batch_decode(labels, skip_special_tokens=True)\n",
    "\n",
    "    # rougeLSum expects newline after each sentence\n",
    "    decoded_preds = [\"\\n\".join(nltk.sent_tokenize(pred.strip())) for pred in decoded_preds]\n",
    "    decoded_labels = [\"\\n\".join(nltk.sent_tokenize(label.strip())) for label in decoded_labels]\n",
    "\n",
    "    result = metric.compute(predictions=decoded_preds, references=decoded_labels, use_stemmer=True)\n",
    "    return result"
   ]
  },
  {
   "cell_type": "markdown",
   "metadata": {},
   "source": [
    "## Model"
   ]
  },
  {
   "cell_type": "code",
   "execution_count": 12,
   "metadata": {
    "execution": {
     "iopub.execute_input": "2024-06-08T17:53:07.643370Z",
     "iopub.status.busy": "2024-06-08T17:53:07.642569Z",
     "iopub.status.idle": "2024-06-08T17:53:08.264637Z",
     "shell.execute_reply": "2024-06-08T17:53:08.263695Z",
     "shell.execute_reply.started": "2024-06-08T17:53:07.643337Z"
    },
    "trusted": true
   },
   "outputs": [
    {
     "name": "stderr",
     "output_type": "stream",
     "text": [
      "/opt/conda/lib/python3.10/site-packages/torch/_utils.py:831: UserWarning: TypedStorage is deprecated. It will be removed in the future and UntypedStorage will be the only storage class. This should only matter to you if you are using storages directly.  To access UntypedStorage directly, use tensor.untyped_storage() instead of tensor.storage()\n",
      "  return self.fget.__get__(instance, owner)()\n"
     ]
    }
   ],
   "source": [
    "model = transformers.AutoModelForSeq2SeqLM.from_pretrained('ainize/bart-base-cnn')\n",
    "# Batching function\n",
    "data_collator = transformers.DataCollatorForSeq2Seq(tokenizer=tokenizer, model=model)"
   ]
  },
  {
   "cell_type": "code",
   "execution_count": 13,
   "metadata": {
    "execution": {
     "iopub.execute_input": "2024-06-08T17:53:08.268186Z",
     "iopub.status.busy": "2024-06-08T17:53:08.267900Z",
     "iopub.status.idle": "2024-06-08T17:53:08.340977Z",
     "shell.execute_reply": "2024-06-08T17:53:08.340069Z",
     "shell.execute_reply.started": "2024-06-08T17:53:08.268161Z"
    },
    "trusted": true
   },
   "outputs": [
    {
     "name": "stderr",
     "output_type": "stream",
     "text": [
      "/opt/conda/lib/python3.10/site-packages/transformers/training_args.py:1474: FutureWarning: `evaluation_strategy` is deprecated and will be removed in version 4.46 of 🤗 Transformers. Use `eval_strategy` instead\n",
      "  warnings.warn(\n"
     ]
    }
   ],
   "source": [
    "# Define arguments of the finetuning\n",
    "training_args = transformers.Seq2SeqTrainingArguments(\n",
    "    output_dir='./bart_finetuning_results',\n",
    "    evaluation_strategy='epoch',\n",
    "    learning_rate=2e-5,\n",
    "    per_device_train_batch_size=8,  # batch size for train\n",
    "    per_device_eval_batch_size=8,  # batch size for eval\n",
    "    weight_decay=.01,\n",
    "    save_total_limit=3,  # num of checkpoints to save \n",
    "    num_train_epochs=2,\n",
    "    fp16=True,\n",
    "    predict_with_generate=True\n",
    ")"
   ]
  },
  {
   "cell_type": "code",
   "execution_count": 14,
   "metadata": {
    "execution": {
     "iopub.execute_input": "2024-06-08T17:53:08.342491Z",
     "iopub.status.busy": "2024-06-08T17:53:08.342180Z",
     "iopub.status.idle": "2024-06-08T17:53:09.196857Z",
     "shell.execute_reply": "2024-06-08T17:53:09.195866Z",
     "shell.execute_reply.started": "2024-06-08T17:53:08.342465Z"
    },
    "trusted": true
   },
   "outputs": [],
   "source": [
    "trainer = transformers.Seq2SeqTrainer(\n",
    "    model=model,\n",
    "    args=training_args,\n",
    "    train_dataset=tokenized_billsum['train'],\n",
    "    eval_dataset=tokenized_billsum['test'],\n",
    "    tokenizer=tokenizer,\n",
    "    data_collator=data_collator,\n",
    "    compute_metrics=compute_metrics\n",
    ")"
   ]
  },
  {
   "cell_type": "code",
   "execution_count": 15,
   "metadata": {
    "execution": {
     "iopub.execute_input": "2024-06-08T17:53:09.198464Z",
     "iopub.status.busy": "2024-06-08T17:53:09.198058Z",
     "iopub.status.idle": "2024-06-08T17:57:32.751002Z",
     "shell.execute_reply": "2024-06-08T17:57:32.750144Z",
     "shell.execute_reply.started": "2024-06-08T17:53:09.198426Z"
    },
    "trusted": true
   },
   "outputs": [
    {
     "name": "stderr",
     "output_type": "stream",
     "text": [
      "\u001b[34m\u001b[1mwandb\u001b[0m: \u001b[33mWARNING\u001b[0m The `run_name` is currently set to the same value as `TrainingArguments.output_dir`. If this was not intended, please specify a different run name by setting the `TrainingArguments.run_name` parameter.\n",
      "\u001b[34m\u001b[1mwandb\u001b[0m: Currently logged in as: \u001b[33msvir\u001b[0m. Use \u001b[1m`wandb login --relogin`\u001b[0m to force relogin\n"
     ]
    },
    {
     "data": {
      "text/html": [
       "wandb version 0.17.1 is available!  To upgrade, please run:\n",
       " $ pip install wandb --upgrade"
      ],
      "text/plain": [
       "<IPython.core.display.HTML object>"
      ]
     },
     "metadata": {},
     "output_type": "display_data"
    },
    {
     "data": {
      "text/html": [
       "Tracking run with wandb version 0.17.0"
      ],
      "text/plain": [
       "<IPython.core.display.HTML object>"
      ]
     },
     "metadata": {},
     "output_type": "display_data"
    },
    {
     "data": {
      "text/html": [
       "Run data is saved locally in <code>/kaggle/working/wandb/run-20240608_175310-gvbn9w5m</code>"
      ],
      "text/plain": [
       "<IPython.core.display.HTML object>"
      ]
     },
     "metadata": {},
     "output_type": "display_data"
    },
    {
     "data": {
      "text/html": [
       "Syncing run <strong><a href='https://wandb.ai/svir/huggingface/runs/gvbn9w5m' target=\"_blank\">./bart_finetuning_results</a></strong> to <a href='https://wandb.ai/svir/huggingface' target=\"_blank\">Weights & Biases</a> (<a href='https://wandb.me/run' target=\"_blank\">docs</a>)<br/>"
      ],
      "text/plain": [
       "<IPython.core.display.HTML object>"
      ]
     },
     "metadata": {},
     "output_type": "display_data"
    },
    {
     "data": {
      "text/html": [
       " View project at <a href='https://wandb.ai/svir/huggingface' target=\"_blank\">https://wandb.ai/svir/huggingface</a>"
      ],
      "text/plain": [
       "<IPython.core.display.HTML object>"
      ]
     },
     "metadata": {},
     "output_type": "display_data"
    },
    {
     "data": {
      "text/html": [
       " View run at <a href='https://wandb.ai/svir/huggingface/runs/gvbn9w5m' target=\"_blank\">https://wandb.ai/svir/huggingface/runs/gvbn9w5m</a>"
      ],
      "text/plain": [
       "<IPython.core.display.HTML object>"
      ]
     },
     "metadata": {},
     "output_type": "display_data"
    },
    {
     "name": "stderr",
     "output_type": "stream",
     "text": [
      "/opt/conda/lib/python3.10/site-packages/torch/nn/parallel/_functions.py:68: UserWarning: Was asked to gather along dimension 0, but all input tensors were scalars; will instead unsqueeze and return a vector.\n",
      "  warnings.warn('Was asked to gather along dimension 0, but all '\n"
     ]
    },
    {
     "data": {
      "text/html": [
       "\n",
       "    <div>\n",
       "      \n",
       "      <progress value='140' max='140' style='width:300px; height:20px; vertical-align: middle;'></progress>\n",
       "      [140/140 04:01, Epoch 2/2]\n",
       "    </div>\n",
       "    <table border=\"1\" class=\"dataframe\">\n",
       "  <thead>\n",
       " <tr style=\"text-align: left;\">\n",
       "      <th>Epoch</th>\n",
       "      <th>Training Loss</th>\n",
       "      <th>Validation Loss</th>\n",
       "      <th>Rouge1</th>\n",
       "      <th>Rouge2</th>\n",
       "      <th>Rougel</th>\n",
       "      <th>Rougelsum</th>\n",
       "    </tr>\n",
       "  </thead>\n",
       "  <tbody>\n",
       "    <tr>\n",
       "      <td>1</td>\n",
       "      <td>No log</td>\n",
       "      <td>2.117500</td>\n",
       "      <td>0.178640</td>\n",
       "      <td>0.098246</td>\n",
       "      <td>0.159710</td>\n",
       "      <td>0.169381</td>\n",
       "    </tr>\n",
       "    <tr>\n",
       "      <td>2</td>\n",
       "      <td>No log</td>\n",
       "      <td>2.065461</td>\n",
       "      <td>0.182595</td>\n",
       "      <td>0.101807</td>\n",
       "      <td>0.163663</td>\n",
       "      <td>0.172274</td>\n",
       "    </tr>\n",
       "  </tbody>\n",
       "</table><p>"
      ],
      "text/plain": [
       "<IPython.core.display.HTML object>"
      ]
     },
     "metadata": {},
     "output_type": "display_data"
    },
    {
     "name": "stderr",
     "output_type": "stream",
     "text": [
      "/opt/conda/lib/python3.10/site-packages/transformers/generation/utils.py:1168: UserWarning: Using the model-agnostic default `max_length` (=20) to control the generation length. We recommend setting `max_new_tokens` to control the maximum length of the generation.\n",
      "  warnings.warn(\n"
     ]
    },
    {
     "data": {
      "text/plain": [
       "TrainOutput(global_step=140, training_loss=2.3062035696847096, metrics={'train_runtime': 263.2571, 'train_samples_per_second': 8.456, 'train_steps_per_second': 0.532, 'total_flos': 1357273356042240.0, 'train_loss': 2.3062035696847096, 'epoch': 2.0})"
      ]
     },
     "execution_count": 15,
     "metadata": {},
     "output_type": "execute_result"
    }
   ],
   "source": [
    "trainer.train()"
   ]
  },
  {
   "cell_type": "markdown",
   "metadata": {},
   "source": [
    "## One sample prediction"
   ]
  },
  {
   "cell_type": "code",
   "execution_count": 16,
   "metadata": {
    "execution": {
     "iopub.execute_input": "2024-06-08T17:57:32.752363Z",
     "iopub.status.busy": "2024-06-08T17:57:32.752078Z",
     "iopub.status.idle": "2024-06-08T17:57:32.761877Z",
     "shell.execute_reply": "2024-06-08T17:57:32.761080Z",
     "shell.execute_reply.started": "2024-06-08T17:57:32.752338Z"
    },
    "trusted": true
   },
   "outputs": [
    {
     "name": "stdout",
     "output_type": "stream",
     "text": [
      "The people of the State of California do enact as follows:\n",
      "\n",
      "\n",
      "SECTION 1.\n",
      "Section 1464 of the Penal Code is amended to read:\n",
      "1464.\n",
      "(a) (1) Subject to Chapter 12 (commencing with Section 76000) of Title 8 of the Government Code, and except as otherwise provided in this section, there shall be levied a state penalty in the amount of ten dollars ($10) for every ten dollars ($10), or part of ten dollars ($10), upon every fine, penalty, or forfeiture imposed and collected by the courts for all criminal offenses, including all offenses, except parking offenses as defined in subdivision (i) of Section 1463, involving a violation of a section of the Vehicle Code or any local ordinance adopted pursuant to the Vehicle Code.\n",
      "(2) Any bail schedule adopted pursuant to Section 1269b or bail schedule adopted by the Judicial Council pursuant to Section 40310 of the Vehicle Code may include the necessary amount to pay the penalties established by this section and Chapter 12 (commencing with Section 76000) of Title 8 of the Government Code, and the surcharge authorized by Section 1465.7, for all matters where a personal appearance is not mandatory and the bail is posted primarily to guarantee payment of the fine.\n",
      "(3) The penalty imposed by this section does not apply to the following:\n",
      "(A) Any restitution fine.\n",
      "(B) Any penalty authorized by Chapter 12 (commencing with Section 76000) of Title 8 of the Government Code.\n",
      "(C) Any parking offense subject to Article 3 (commencing with Section 40200) of Chapter 1 of Division 17 of the Vehicle Code.\n",
      "(D) The state surcharge authorized by Section 1465.7.\n",
      "(b) Where multiple offenses are involved, the state penalty shall be based upon the total fine or bail for each case. When a fine is suspended, in whole or in part, the state penalty shall be reduced in proportion to the suspension.\n",
      "(c) When any deposited bail is made for an offense to which this section applies, and for which a court appearance is not mandatory, the person making the deposit shall also deposit a sufficient amount to include the state penalty prescribed by this section for forfeited bail. If bail is returned, the state penalty paid thereon pursuant to this section shall also be returned.\n",
      "(d) In any case where a person convicted of any offense, to which this section applies, is in prison until the fine is satisfied, the judge may waive all or any part of the state penalty, the payment of which would work a hardship on the person convicted or his or her immediate family.\n",
      "(e) After a determination by the court of the amount due, the clerk of the court shall collect the penalty and transmit it to the county treasury. The portion thereof attributable to Chapter 12 (commencing with Section 76000) of Title 8 of the Government Code shall be deposited in the appropriate county fund and 70 percent of the balance shall then be transmitted to the State Treasury, to be deposited in the State Penalty Fund, which is hereby created, and 30 percent to remain on deposit in the county general fund. The transmission to the State Treasury shall be carried out in the same manner as fines collected for the state by a county.\n",
      "(f) The moneys so deposited in the State Penalty Fund shall be distributed as follows:\n",
      "(1) Once a month there shall be transferred into the Fish and Game Preservation Fund an amount equal to 0.33 percent of the state penalty funds deposited in the State Penalty Fund during the preceding month, except that the total amount shall not be less than the state penalty levied on fines or forfeitures for violation of state laws relating to the protection or propagation of fish and game. These moneys shall be used for the education or training of department employees which fulfills a need consistent with the objectives of the Department of Fish and\n",
      "Game.\n",
      "Wildlife.\n",
      "(2) Once a month there shall be transferred into the Restitution Fund an amount equal to 32.02 percent of the state penalty funds deposited in the State Penalty Fund during the preceding month. Those funds shall be made available in accordance with Section 13967 of the Government Code.\n",
      "(3) Once a month there shall be transferred into the Peace Officers’ Training Fund an amount equal to 23.99 percent of the state penalty funds deposited in the State Penalty Fund during the preceding month.\n",
      "(4) Once a month there shall be transferred into the\n",
      "Driver Training Penalty Assessment\n",
      "Body-worn Camera\n",
      "Fund an amount equal to 25.70 percent of the state penalty funds deposited in the State Penalty Fund during the preceding month.\n",
      "(5) Once a month there shall be transferred into the Corrections Training Fund an amount equal to 7.88 percent of the state penalty funds deposited in the State Penalty Fund during the preceding month. Money in the Corrections Training Fund is not continuously appropriated and shall be appropriated in the Budget Act.\n",
      "(6) Once a month there shall be transferred into the Local Public Prosecutors and Public Defenders Training Fund established pursuant to Section 11503 an amount equal to 0.78 percent of the state penalty funds deposited in the State Penalty Fund during the preceding month. The amount so transferred shall not exceed the sum of eight hundred fifty thousand dollars ($850,000) in any fiscal year. The remainder in excess of eight hundred fifty thousand dollars ($850,000) shall be transferred to the Restitution Fund.\n",
      "(7) Once a month there shall be transferred into the Victim-Witness Assistance Fund an amount equal to 8.64 percent of the state penalty funds deposited in the State Penalty Fund during the preceding month.\n",
      "(8) (A) Once a month there shall be transferred into the Traumatic Brain Injury Fund, created pursuant to Section 4358 of the Welfare and Institutions Code, an amount equal to 0.66 percent of the state penalty funds deposited into the State Penalty Fund during the preceding month. However, the amount of funds transferred into the Traumatic Brain Injury Fund for the 1996–97 fiscal year shall not exceed the amount of five hundred thousand dollars ($500,000). Thereafter, funds shall be transferred pursuant to the requirements of this section. Notwithstanding any other provision of law, the funds transferred into the Traumatic Brain Injury Fund for the 1997–98, 1998–99, and 1999–2000 fiscal years, may be expended by the State Department of Mental Health, in the current fiscal year or a subsequent fiscal year, to provide additional funding to the existing projects funded by the Traumatic Brain Injury Fund, to support new projects, or to do both.\n",
      "(B) Any moneys deposited in the State Penalty Fund attributable to the assessments made pursuant to subdivision (i) of Section 27315 of the Vehicle Code on or after the date that Chapter 6.6 (commencing with Section 5564) of Part 1 of Division 5 of the Welfare and Institutions Code is repealed shall be utilized in accordance with paragraphs (1) to (8), inclusive, of this subdivision.\n",
      "SEC. 2.\n",
      "Title 14 (commencing with Section 14400) is added to Part 4 of the Penal Code, to read:\n",
      "TITLE 14. Body-Worn Camera Grant Program for Local Law Enforcement\n",
      "14400.\n",
      "The Board of State and Community Corrections shall develop a grant program for the purpose of making funds available to local law enforcement entities to purchase body-worn cameras and related data storage and equipment, and to hire personnel necessary to operate a local body-worn camera program.\n",
      "14402.\n",
      "The Body-worn Camera Fund is hereby created. Notwithstanding Section 13340 of the Government Code, all moneys in the fund are continuously appropriated to the Board of State and Community Corrections for the purposes of Section 14400.\n",
      "14404.\n",
      "If federal funds become available for the purpose of purchasing body-worn cameras and related equipment for local law enforcement, the Board of State and Community Corrections shall adjust the grant program to maximize state and local competitiveness in obtaining federal funds, and the board shall either apply for federal funds on behalf of a local law enforcement agency, or reimburse a local law enforcement agency that has expended funds for federal funds purposes.\n",
      "SECTION 1.\n",
      "Section 566 of the\n",
      "Penal Code\n",
      "is amended to read:\n",
      "566.\n",
      "It is a felony, punishable by a fine not exceeding one thousand five hundred dollars ($1,500), or by imprisonment pursuant to subdivision (h) of Section 1170, or both, for an unauthorized person to possess or use, or to obliterate or destroy the brand registration upon, containers, including milk cases, cabinets, or other dairy equipment, which have a value in excess of nine hundred fifty dollars ($950), when the containers, cabinets, or other dairy equipment are marked with a brand that is registered pursuant to Chapter 10 (commencing with Section 34501) of Part 1 of Division 15 of the Food and Agricultural Code. For purposes of this section, “unauthorized person” has the same meaning as defined in Section 34564 of the Food and Agricultural Code.\n"
     ]
    }
   ],
   "source": [
    "text_example = billsum['test']['text'][42]\n",
    "print(text_example)"
   ]
  },
  {
   "cell_type": "code",
   "execution_count": 17,
   "metadata": {
    "execution": {
     "iopub.execute_input": "2024-06-08T17:57:32.763439Z",
     "iopub.status.busy": "2024-06-08T17:57:32.763108Z",
     "iopub.status.idle": "2024-06-08T17:57:32.781202Z",
     "shell.execute_reply": "2024-06-08T17:57:32.780366Z",
     "shell.execute_reply.started": "2024-06-08T17:57:32.763405Z"
    },
    "trusted": true
   },
   "outputs": [],
   "source": [
    "input_ids = tokenizer.encode(\n",
    "    text_example,\n",
    "    return_tensors=\"pt\",\n",
    "    max_length=1024,\n",
    "    truncation=True,\n",
    ").to(device)"
   ]
  },
  {
   "cell_type": "code",
   "execution_count": 18,
   "metadata": {
    "execution": {
     "iopub.execute_input": "2024-06-08T17:57:32.782581Z",
     "iopub.status.busy": "2024-06-08T17:57:32.782260Z",
     "iopub.status.idle": "2024-06-08T17:57:32.792084Z",
     "shell.execute_reply": "2024-06-08T17:57:32.791124Z",
     "shell.execute_reply.started": "2024-06-08T17:57:32.782559Z"
    },
    "trusted": true
   },
   "outputs": [
    {
     "data": {
      "text/plain": [
       "torch.Size([1, 1024])"
      ]
     },
     "execution_count": 18,
     "metadata": {},
     "output_type": "execute_result"
    }
   ],
   "source": [
    "input_ids.shape"
   ]
  },
  {
   "cell_type": "code",
   "execution_count": 19,
   "metadata": {
    "execution": {
     "iopub.execute_input": "2024-06-08T17:57:32.793654Z",
     "iopub.status.busy": "2024-06-08T17:57:32.793296Z",
     "iopub.status.idle": "2024-06-08T17:57:34.045453Z",
     "shell.execute_reply": "2024-06-08T17:57:34.044257Z",
     "shell.execute_reply.started": "2024-06-08T17:57:32.793620Z"
    },
    "trusted": true
   },
   "outputs": [],
   "source": [
    "summary_text_ids = model.generate(\n",
    "    input_ids=input_ids,\n",
    "    bos_token_id=model.config.bos_token_id,\n",
    "    eos_token_id=model.config.eos_token_id,\n",
    "    max_length=142,\n",
    "    min_length=56,\n",
    "    num_beams=4,\n",
    ")"
   ]
  },
  {
   "cell_type": "code",
   "execution_count": 20,
   "metadata": {
    "execution": {
     "iopub.execute_input": "2024-06-08T17:57:34.047772Z",
     "iopub.status.busy": "2024-06-08T17:57:34.047393Z",
     "iopub.status.idle": "2024-06-08T17:57:34.054327Z",
     "shell.execute_reply": "2024-06-08T17:57:34.053448Z",
     "shell.execute_reply.started": "2024-06-08T17:57:34.047740Z"
    },
    "trusted": true
   },
   "outputs": [
    {
     "name": "stdout",
     "output_type": "stream",
     "text": [
      "Existing law provides for the imposition of a state penalty upon every fine, penalty, or forfeiture imposed and collected by the courts for all criminal offenses, including all offenses, except parking offenses as defined. Existing law also provides that the penalty imposed by this bill is based upon the total fine or bail for each case, except as otherwise provided, and that the state penalty shall be based upon a bail schedule adopted by the Judicial Council, as specified.\n",
      "This bill would require the clerk of the court to collect the penalty and transmit it to the county treasury.\n"
     ]
    }
   ],
   "source": [
    "decoded_text = tokenizer.decode(summary_text_ids[0], skip_special_tokens=True)\n",
    "print(decoded_text)"
   ]
  },
  {
   "cell_type": "code",
   "execution_count": null,
   "metadata": {},
   "outputs": [],
   "source": []
  }
 ],
 "metadata": {
  "kaggle": {
   "accelerator": "nvidiaTeslaT4",
   "dataSources": [],
   "dockerImageVersionId": 30716,
   "isGpuEnabled": true,
   "isInternetEnabled": true,
   "language": "python",
   "sourceType": "notebook"
  },
  "kernelspec": {
   "display_name": ".venv",
   "language": "python",
   "name": "python3"
  },
  "language_info": {
   "codemirror_mode": {
    "name": "ipython",
    "version": 3
   },
   "file_extension": ".py",
   "mimetype": "text/x-python",
   "name": "python",
   "nbconvert_exporter": "python",
   "pygments_lexer": "ipython3",
   "version": "3.12.10"
  }
 },
 "nbformat": 4,
 "nbformat_minor": 4
}
